{
 "cells": [
  {
   "cell_type": "code",
   "execution_count": null,
   "metadata": {},
   "outputs": [
    {
     "ename": "",
     "evalue": "",
     "output_type": "error",
     "traceback": [
      "\u001b[1;31mRunning cells with 'Python 3.10.0 64-bit ('.venv': venv)' requires ipykernel package.\n",
      "Run the following command to install 'ipykernel' into the Python environment. \n",
      "Command: '\"c:/Users/LukeAustin/OneDrive - Market Operator Services Limited/Luke_Backup/Luke/DataAnalysis/azure-search-python-samples/search-website/.venv/Scripts/python.exe\" -m pip install ipykernel -U --force-reinstall'"
     ]
    }
   ],
   "source": [
    "import requests\n",
    "import json\n",
    "from azure.core.credentials import AzureKeyCredential\n",
    "from azure.search.documents import SearchClient\n",
    "\n",
    "\n",
    "with open(\"api/local.settings.json\") as read_file:\n",
    "    config = json.load(read_file)\n",
    "\n",
    "service_name = config[\"Values\"][\"SearchServiceName\"]\n",
    "api_version = config[\"Values\"][\"ApiVersion\"]\n",
    "api_key = config[\"Values\"][\"SearchApiKey\"]\n",
    "\n",
    "headers = {\n",
    "    'Content-Type': 'application/json',\n",
    "    'api-key': api_key\n",
    "}\n",
    "\n",
    "index_name = \"mosl-demo-index-meta2\"\n",
    "endpoint = \"https://search-test-123.search.windows.net\"\n",
    "\n",
    "url = \"https://{}.search.windows.net/indexes/{}/docs\".format(service_name, index_name)\n",
    "url += \"?api-version={}\".format(api_version)\n",
    "url += \"&search=correction\"\n",
    "url += \"&$count=true\"\n",
    "#url += '&$top=5'\n",
    "url += '&highlight=merged_text'\n",
    "print(url)\n"
   ]
  },
  {
   "cell_type": "code",
   "execution_count": 32,
   "metadata": {},
   "outputs": [
    {
     "name": "stdout",
     "output_type": "stream",
     "text": [
      "<SearchClient [endpoint='https://search-test-123.search.windows.net', index='mosl-demo-index-meta2']>\n"
     ]
    }
   ],
   "source": [
    "search_client = SearchClient(endpoint = endpoint, index_name = index_name, credential = AzureKeyCredential(api_key))\n",
    "print(search_client)"
   ]
  },
  {
   "cell_type": "code",
   "execution_count": 3,
   "metadata": {},
   "outputs": [
    {
     "name": "stdout",
     "output_type": "stream",
     "text": [
      "200\n"
     ]
    }
   ],
   "source": [
    "resp = requests.get(url, headers = headers)\n",
    "print(resp.status_code)"
   ]
  },
  {
   "cell_type": "code",
   "execution_count": 4,
   "metadata": {},
   "outputs": [
    {
     "data": {
      "text/plain": [
       "dict_keys(['@search.score', '@search.highlights', 'id', 'metadata_storage_name', 'content', 'keyPhrases', 'merged_text', 'Test1', 'Test2', 'Test3'])"
      ]
     },
     "execution_count": 4,
     "metadata": {},
     "output_type": "execute_result"
    }
   ],
   "source": [
    "search_results = resp.json()\n",
    "\n",
    "search_results.keys()\n",
    "search_results[\"@odata.context\"]\n",
    "search_results[\"@odata.count\"]\n",
    "len(search_results['value'])\n",
    "search_results['value'][0].keys()"
   ]
  },
  {
   "cell_type": "code",
   "execution_count": 5,
   "metadata": {},
   "outputs": [
    {
     "name": "stdout",
     "output_type": "stream",
     "text": [
      "PDF Name: CSD 0105 V7.0 Clean.pdf, Search Score 11.810898\n",
      "PDF Name: OSD 0704 V1.0 (Clean).pdf, Search Score 11.32995\n",
      "PDF Name: CSD 0406 V2.0.pdf, Search Score 9.431417\n",
      "PDF Name: CSD 0103 V2.0 (clean).pdf, Search Score 7.4143906\n",
      "PDF Name: CSD 0102 V8.0 (clean).pdf, Search Score 4.6572857\n",
      "PDF Name: CSD 0202 V7.0 (clean).pdf, Search Score 4.6572857\n",
      "PDF Name: CSD 0301 V14.0 (Clean).pdf, Search Score 4.147939\n"
     ]
    }
   ],
   "source": [
    "for result in search_results[\"value\"]:\n",
    "    print(\"PDF Name: {}, Search Score {}\".format(result[\"metadata_storage_name\"], result[\"@search.score\"])\n",
    "    )"
   ]
  },
  {
   "cell_type": "code",
   "execution_count": 5,
   "metadata": {},
   "outputs": [
    {
     "name": "stdout",
     "output_type": "stream",
     "text": [
      "\n",
      " \n",
      "\n",
      " \n",
      "\n",
      " \n",
      "\n",
      " \n",
      "\n",
      "Code Subsidiary Document  \n",
      "No. 0105: \n",
      "\n",
      "Error Rectification and \n",
      "Retrospective Amendments \n",
      " \n",
      "\n",
      " \n",
      "\n",
      "\n",
      "\n",
      " \n",
      "\n",
      "Document reference CSD 01015 Error Rectification & Retrospective Amendments \n",
      "Version 7.0  Page 2 of 53 \n",
      " \n",
      " \n",
      "\n",
      "Change History \n",
      "\n",
      "Version \n",
      "Number \n",
      "\n",
      "Date of \n",
      "Issue \n",
      "\n",
      "Reason For \n",
      "Change \n",
      "\n",
      "Change Control \n",
      "Reference \n",
      "\n",
      "Sections \n",
      "Affected  \n",
      "\n",
      "V2.0\n"
     ]
    }
   ],
   "source": [
    "print(search_results[\"value\"][0][\"merged_text\"][:350])"
   ]
  },
  {
   "cell_type": "code",
   "execution_count": 6,
   "metadata": {},
   "outputs": [
    {
     "name": "stdout",
     "output_type": "stream",
     "text": [
      "Results Found: 7, Results Returned: 7\n",
      "Highest Search Score: 11.810898\n"
     ]
    }
   ],
   "source": [
    "print(\"Results Found: {}, Results Returned: {}\".format(search_results['@odata.count'], len(search_results['value'])))\n",
    "print(\"Highest Search Score: {}\".format(search_results['value'][0]['@search.score']))\n"
   ]
  },
  {
   "cell_type": "code",
   "execution_count": 7,
   "metadata": {},
   "outputs": [
    {
     "data": {
      "text/plain": [
       "['Market Operator Data <em>Correction</em> .......................................................... 20 \\n\\n5.',\n",
       " 'Document reference CSD 01015 Error Rectification & Retrospective Amendments \\nVersion 7.0  Page 9 of 53 \\n \\n \\n\\n2.2.5 For unpaired Supply Points, the Data Owner for the Supply Point is also the \\n\\nData Owner for the Core Data. \\n\\n2.3 Types of Data <em>Correction</em> \\n\\n2.3.1 There are two types of Data <em>Correction</em>.',\n",
       " 'Immediate Error Rectification \\n\\n2.4.2 Where an Error Rectification satisfies all of the following conditions: \\n\\n(a) The proposed Effective From Date for the Data Item is: \\n\\n(i) After the most recent Effective From Date for that Data Item; and \\n\\neither within the current Month or the previous two preceding \\n\\nMonths; and \\n\\n(b) The current Data Owner has been the Data Owner for the entire period of \\n\\nthe proposed Data <em>Correction</em>; and \\n\\n(c) The proposed Data <em>Correction</em> is a change to the Data Item for the entire \\n\\nperiod from the Effective From Date of the <em>correction</em>.',\n",
       " 'Self Certified Error Rectification \\n\\n2.4.3 Where an Error Rectification does not satisfy the conditions for an Immediate \\n\\nError Rectification as set out in section 2.4.2, including where: \\n\\n(a) The Effective From Date for the Error <em>Correction</em> is before the earliest \\n\\ndate for an Immediate Error Rectification; and \\n\\n(b) The Error Rectification is for a period of time which is in the past (ie the \\n\\nError Rectification has an Effective To Date, including the case where the \\n\\ncurrent Data Owner is not the Data Owner for the period of the \\n\\n<em>correction</em>, and the Data <em>Correction</em> is being submitted by the appropriate \\n\\nprevious Data Owner); \\n\\nthen a Self Certified Error Rectification must be used.',\n",
       " 'Step b: Data <em>Correction</em>  \\n\\n3.2.6 Where a Data <em>Correction</em> is both required and permitted and a Data Transaction \\n\\nis applicable, the Data Owner will notify the Market Operator of the Data Item \\n\\n\\n\\n \\n\\nDocument reference CSD 01015 Error Rectification & Retrospective Amendments \\nVersion 7.0  Page 19 of 53 \\n \\n \\n\\nusing the Data Transactions as appropriate.']"
      ]
     },
     "execution_count": 7,
     "metadata": {},
     "output_type": "execute_result"
    }
   ],
   "source": [
    "search_results['value'][0]['@search.highlights']['merged_text']"
   ]
  },
  {
   "cell_type": "code",
   "execution_count": 9,
   "metadata": {},
   "outputs": [
    {
     "data": {
      "text/html": [
       "Where there is only a \n",
       "\n",
       "Sewerage Services Supply Point, the Sewerage Services Supply Point must be \n",
       "\n",
       "Tradable. \n",
       "\n",
       "3.1.3 An <span style = \"background-color: #f5e8a3; color: #000000\">Occupied</span> Premises is defined as: \n",
       "\n",
       "(a) One which is in use."
      ],
      "text/plain": [
       "<IPython.core.display.HTML object>"
      ]
     },
     "metadata": {},
     "output_type": "display_data"
    },
    {
     "data": {
      "text/html": [
       "(e) A part-<span style = \"background-color: #f5e8a3; color: #000000\">occupied</span> or part-used premises is considered as <span style = \"background-color: #f5e8a3; color: #000000\">occupied</span>."
      ],
      "text/plain": [
       "<IPython.core.display.HTML object>"
      ]
     },
     "metadata": {},
     "output_type": "display_data"
    },
    {
     "data": {
      "text/html": [
       "This \n",
       "\n",
       "will include large sites where a section, building or floor may be vacant or \n",
       "\n",
       "unused but the rest of the premises is <span style = \"background-color: #f5e8a3; color: #000000\">occupied</span> or in use."
      ],
      "text/plain": [
       "<IPython.core.display.HTML object>"
      ]
     },
     "metadata": {},
     "output_type": "display_data"
    },
    {
     "data": {
      "text/html": [
       "(f) Premises which are in use and maintained by a concierge ready for letting \n",
       "\n",
       "are considered to be <span style = \"background-color: #f5e8a3; color: #000000\">occupied</span>."
      ],
      "text/plain": [
       "<IPython.core.display.HTML object>"
      ]
     },
     "metadata": {},
     "output_type": "display_data"
    },
    {
     "data": {
      "text/html": [
       "(g) Existing connected premises which are being renovated, refurbished, \n",
       "\n",
       "converted or fitted-out are considered to be <span style = \"background-color: #f5e8a3; color: #000000\">occupied</span> as the property is in \n",
       "\n",
       "use."
      ],
      "text/plain": [
       "<IPython.core.display.HTML object>"
      ]
     },
     "metadata": {},
     "output_type": "display_data"
    }
   ],
   "source": [
    "from IPython.display import display, HTML\n",
    "\n",
    "for highlight in search_results[\"value\"][0][\"@search.highlights\"][\"merged_text\"]:\n",
    "    display(HTML(highlight))"
   ]
  },
  {
   "cell_type": "code",
   "execution_count": 93,
   "metadata": {},
   "outputs": [
    {
     "name": "stdout",
     "output_type": "stream",
     "text": [
      "https://search-test-123.search.windows.net/indexes/mosl-demo-index-meta2/docs?api-version=2020-06-30&search=occupied&$count=true&highlight=merged_text&highlightPreTag=%3Cspan%20style%3D%22background-color%3A%23f5e8a3%22%3E&highlightPostTag=%3C%2Fspan%3E\n",
      "200\n"
     ]
    }
   ],
   "source": [
    "import urllib\n",
    "\n",
    "search_term = \"occupied\"\n",
    "\n",
    "url = \"https://{}.search.windows.net/indexes/{}/docs\".format(service_name, index_name)\n",
    "url += \"?api-version={}\".format(api_version)\n",
    "url += \"&search=\" + search_term\n",
    "url += \"&$count=true\"\n",
    "url += '&highlight=merged_text'\n",
    "url += \"&highlightPreTag=\" + urllib.parse.quote('<span style = \"background-color: #f5e8a3; color: #000000\">', safe = \"\")\n",
    "url += \"&highlightPostTag=\" + urllib.parse.quote('</span>', safe = \"\")\n",
    "\n",
    "resp = requests.get(url, headers = headers)\n",
    "print(url)\n",
    "print(resp.status_code)\n",
    "\n",
    "search_results = resp.json()"
   ]
  },
  {
   "cell_type": "code",
   "execution_count": 94,
   "metadata": {},
   "outputs": [
    {
     "data": {
      "text/html": [
       "<h3>CSD 0104 V8.0.pdf (search score: 13.068954)</h3>"
      ],
      "text/plain": [
       "<IPython.core.display.HTML object>"
      ]
     },
     "metadata": {},
     "output_type": "display_data"
    },
    {
     "data": {
      "text/html": [
       "<h4>Key phrases: <br></h4><h5>Unwinding Covid19 \n",
       "Provisions \n",
       "\n",
       "CPW101 | Inactive Data Items \n",
       "\n",
       "CPW025 | Change Control \n",
       "Reference \n",
       "\n",
       "Sections | Code Subsidiary Document | Meter Networks \n",
       "\n",
       "CPW016 | meter \n",
       "networks \n",
       "\n",
       "CPW047 | Credit Support \n",
       "\n",
       "CPW107 | Document reference CSD | Non-Household Customer data | address related data</h5>"
      ],
      "text/plain": [
       "<IPython.core.display.HTML object>"
      ]
     },
     "metadata": {},
     "output_type": "display_data"
    },
    {
     "data": {
      "text/html": [
       "Where there is only a \n",
       "\n",
       "Sewerage Services Supply Point, the Sewerage Services Supply Point must be \n",
       "\n",
       "Tradable. \n",
       "\n",
       "3.1.3 An <span style=\"background-color:#f5e8a3\">Occupied</span> Premises is defined as: \n",
       "\n",
       "(a) One which is in use."
      ],
      "text/plain": [
       "<IPython.core.display.HTML object>"
      ]
     },
     "metadata": {},
     "output_type": "display_data"
    },
    {
     "data": {
      "text/html": [
       "(e) A part-<span style=\"background-color:#f5e8a3\">occupied</span> or part-used premises is considered as <span style=\"background-color:#f5e8a3\">occupied</span>."
      ],
      "text/plain": [
       "<IPython.core.display.HTML object>"
      ]
     },
     "metadata": {},
     "output_type": "display_data"
    },
    {
     "data": {
      "text/html": [
       "This \n",
       "\n",
       "will include large sites where a section, building or floor may be vacant or \n",
       "\n",
       "unused but the rest of the premises is <span style=\"background-color:#f5e8a3\">occupied</span> or in use."
      ],
      "text/plain": [
       "<IPython.core.display.HTML object>"
      ]
     },
     "metadata": {},
     "output_type": "display_data"
    },
    {
     "data": {
      "text/html": [
       "(f) Premises which are in use and maintained by a concierge ready for letting \n",
       "\n",
       "are considered to be <span style=\"background-color:#f5e8a3\">occupied</span>."
      ],
      "text/plain": [
       "<IPython.core.display.HTML object>"
      ]
     },
     "metadata": {},
     "output_type": "display_data"
    },
    {
     "data": {
      "text/html": [
       "(g) Existing connected premises which are being renovated, refurbished, \n",
       "\n",
       "converted or fitted-out are considered to be <span style=\"background-color:#f5e8a3\">occupied</span> as the property is in \n",
       "\n",
       "use."
      ],
      "text/plain": [
       "<IPython.core.display.HTML object>"
      ]
     },
     "metadata": {},
     "output_type": "display_data"
    },
    {
     "data": {
      "text/html": [
       "<h3>Annex H - Process Diagrams V2.0.pdf (search score: 8.087732)</h3>"
      ],
      "text/plain": [
       "<IPython.core.display.HTML object>"
      ]
     },
     "metadata": {},
     "output_type": "display_data"
    },
    {
     "data": {
      "text/html": [
       "<h4>Key phrases: <br></h4><h5>Time Wholesaler Registered Retailer\n",
       "\n",
       "Process H7 | Vacancy Incentive \n",
       "Scheme \n",
       "\n",
       "CPW083 Process H7 | RetailerStep/Time Wholesaler\n",
       "\n",
       "Process H7 | Challenges Vacancy \n",
       "Incentive Scheme | Wholesale Retail Code Annex | Vacancy Incentive Scheme Payment | Vacancy Incentive \n",
       "\n",
       "Scheme payment | Gap Site incentive payment | Change Control \n",
       "Reference \n",
       "\n",
       "Sections | Vacancy \n",
       "\n",
       "Incentive Scheme</h5>"
      ],
      "text/plain": [
       "<IPython.core.display.HTML object>"
      ]
     },
     "metadata": {},
     "output_type": "display_data"
    },
    {
     "data": {
      "text/html": [
       "Step 4 Updates SPID to \n",
       "<span style=\"background-color:#f5e8a3\">occupied</span>, contacts \n",
       "\n",
       "Customer to inform that \n",
       "they are a NHH \n",
       "\n",
       "Customer, and can \n",
       "choose their Retailer\n",
       "\n",
       "g\n",
       "\n",
       "Confirm date of \n",
       "occupation/\n",
       "\n",
       "revise in CMOS\n",
       "\n",
       "Step 5 Step 6\n",
       "\n",
       "h\n",
       "\n",
       "End\n",
       "\n",
       "Notified\n",
       "\n",
       "Step 8\n",
       "\n",
       "f\n",
       "\n",
       "Accept\n",
       "\n",
       " \n",
       "\n",
       "\n",
       "\n",
       " \n",
       "\n",
       " \n",
       " \n",
       "\n",
       "Wholesale Retail Code Annex H Page 17 of 17 \n",
       "Version 2.0 \n",
       "\n",
       "Applying RetailerStep/Time Wholesaler Registered Retailer\n",
       "\n",
       "Process H7 – Application for Vacancy Incentive Scheme Payment [Steps 5 to 8]\n",
       "\n",
       "B."
      ],
      "text/plain": [
       "<IPython.core.display.HTML object>"
      ]
     },
     "metadata": {},
     "output_type": "display_data"
    },
    {
     "data": {
      "text/html": [
       "Where the applying Retailer is not registered for the Vacant Premises\n",
       "\n",
       "Step 5\n",
       "\n",
       "Step 6\n",
       "\n",
       "Submits C/03 if \n",
       "premises should \n",
       "be deregistered\n",
       "\n",
       "Step 3\n",
       "\n",
       "Accept/Reject \n",
       "request\n",
       "\n",
       "Form C/03\n",
       "\n",
       "i\n",
       "\n",
       "j\n",
       "\n",
       "Either change SPID to \n",
       "<span style=\"background-color:#f5e8a3\">occupied</span> (as per step \n",
       "\n",
       "4), or reject \n",
       "application (as per \n",
       "\n",
       "step 6)\n",
       "\n",
       "Reject\n",
       "\n",
       "k\n",
       "\n",
       "Notified\n",
       "\n",
       "(l) Within 5BD of form \n",
       "C/03 rejection\n",
       "\n",
       "Rejects application if \n",
       "premises is correctly \n",
       "\n",
       "flagged as vacant\n",
       "Notified\n",
       "\n",
       "l\n",
       "\n",
       "Step 7\n",
       "\n",
       "Step 8\n",
       "\n",
       "Either contest \n",
       "rejection or withdraw \n",
       "\n",
       "application\n",
       "Notified Notified\n",
       "\n",
       "Completes \n",
       "above (m)?"
      ],
      "text/plain": [
       "<IPython.core.display.HTML object>"
      ]
     },
     "metadata": {},
     "output_type": "display_data"
    },
    {
     "data": {
      "text/html": [
       "m\n",
       "\n",
       "n\n",
       "\n",
       "Application \n",
       "withdrawn\n",
       "\n",
       "No\n",
       "\n",
       "o\n",
       "\n",
       "(n) Within 10BD of \n",
       "application rejection as \n",
       "\n",
       "per step 5 or step 6\n",
       "\n",
       "Contests in \n",
       "accordance with \n",
       "\n",
       "Vacancy Incentive \n",
       "Scheme Guidance\n",
       "\n",
       "Yes\n",
       "\n",
       "End\n",
       "\n",
       "p\n",
       "\n",
       "Makes payment where \n",
       "change from vacant to \n",
       "\n",
       "<span style=\"background-color:#f5e8a3\">occupied</span> occurs\n",
       "Notified\n",
       "\n",
       "q\n",
       "\n",
       "(r) Within 20BD\n",
       "\n",
       "End\n",
       "\n",
       "Step 4\n",
       "\n",
       "Notified\n",
       "\n",
       "Step 4\n",
       "\n",
       "Notifies Applying \n",
       "Retailer\n",
       "\n",
       "Accept\n",
       "\n",
       "r"
      ],
      "text/plain": [
       "<IPython.core.display.HTML object>"
      ]
     },
     "metadata": {},
     "output_type": "display_data"
    },
    {
     "data": {
      "text/html": [
       "<h3>CSD 0201 V4.0.pdf (search score: 5.5133376)</h3>"
      ],
      "text/plain": [
       "<IPython.core.display.HTML object>"
      ]
     },
     "metadata": {},
     "output_type": "display_data"
    },
    {
     "data": {
      "text/html": [
       "<h4>Key phrases: <br></h4><h5>Reporting \n",
       "\n",
       " \n",
       " \n",
       "\n",
       " \n",
       "\n",
       " \n",
       "\n",
       " \n",
       "\n",
       " \n",
       "\n",
       " \n",
       "\n",
       " \n",
       "\n",
       " \n",
       "\n",
       " \n",
       "\n",
       " \n",
       "\n",
       " \n",
       "\n",
       " \n",
       "\n",
       " \n",
       "\n",
       " \n",
       "\n",
       "\n",
       "\n",
       "Document reference CSD 0201 Settlement Timetable | Individual Supply \n",
       "Points \n",
       "\n",
       "CPW064 Sections | Change \n",
       "Control \n",
       "Reference \n",
       "\n",
       "Sections | A.3 Detailed Field Specification | B.5 Disaggregated Report Part | B.6 Disaggregated Report Part | B.7 Disaggregated Report Part | B.8 Disaggregated Report Part | B.9 Disaggregated Report Part | B.2 Settlement Report Parts</h5>"
      ],
      "text/plain": [
       "<IPython.core.display.HTML object>"
      ]
     },
     "metadata": {},
     "output_type": "display_data"
    },
    {
     "data": {
      "text/html": [
       "items: \n",
       "\n",
       "(a) the name of the Wholesaler; \n",
       "\n",
       "(b) the name of the Retailer; \n",
       "\n",
       "(c) the Settlement Run type; \n",
       "\n",
       "\n",
       "\n",
       "Document reference CSD 0201 Settlement Timetable and Reporting \n",
       "\n",
       "Version 4.0 Page 15 of 39 \n",
       "\n",
       " \n",
       "\n",
       "(d) the Invoice Period; \n",
       "\n",
       "(e) the date and time at which the Settlement Run was carried out; \n",
       "\n",
       "(f) the SPID; \n",
       "\n",
       "(g) the SPID category; \n",
       "\n",
       "(h) the Service Component; \n",
       "\n",
       "(i) the Tariff code; \n",
       "\n",
       "(j) the Tariff name; \n",
       "\n",
       "(k) the Charging Element; \n",
       "\n",
       "(l) whether the premises were <span style=\"background-color:#f5e8a3\">occupied</span> or vacant; \n",
       "\n",
       "(m) whether the premises were subject to a Temporary Disconnection or not; \n",
       "\n",
       "(n) the number of days for the Charging Element/ vacancy/ Temporary \n",
       "\n",
       "Disconnection/ Special Agreement Factor combination;  \n",
       "\n",
       "(o) the Volume supplied; \n",
       "\n",
       "(p) the actual Volume supplied; \n",
       "\n",
       "(q) the estimated Volume supplied; \n",
       "\n",
       "(r) the average capacity supplied; \n",
       "\n",
       "(s) the Special Agreement Factor; \n",
       "\n",
       "(t) the unit price; \n",
       "\n",
       "(u) the volumetric Primary Charges; \n",
       "\n",
       "(v) the non-volumetric Pr"
      ],
      "text/plain": [
       "<IPython.core.display.HTML object>"
      ]
     },
     "metadata": {},
     "output_type": "display_data"
    },
    {
     "data": {
      "text/html": [
       "e applicable. \n",
       "\n",
       "2.6.5 Each detailed report line for the second part of the Disaggregated Settlement \n",
       "\n",
       "Report will include the following items: \n",
       "\n",
       "(a) the name of the Wholesaler; \n",
       "\n",
       "(b) the name of the Retailer; \n",
       "\n",
       "(c) the Settlement Run type; \n",
       "\n",
       "(d) the Invoice Period; \n",
       "\n",
       "(e) the date and time at which the Settlement Run was carried out; \n",
       "\n",
       "(f) the SPID; \n",
       "\n",
       "(g) the DPID; \n",
       "\n",
       "(h) the Tariff code; \n",
       "\n",
       "(i) the Tariff name; \n",
       "\n",
       "(j) the Charging Element; \n",
       "\n",
       "(k) whether the premises were <span style=\"background-color:#f5e8a3\">occupied</span> or vacant; \n",
       "\n",
       "(l) whether the premises were subject to a Temporary Disconnection or not; \n",
       "\n",
       "(m) Ot (D6006); \n",
       "\n",
       "(n) St (D6007); \n",
       "\n",
       "(o) the number of days; \n",
       "\n",
       "(p) the Volume; \n",
       "\n",
       "\n",
       "\n",
       "Document reference CSD 0201 Settlement Timetable and Reporting \n",
       "\n",
       "Version 4.0 Page 17 of 39 \n",
       "\n",
       " \n",
       "\n",
       "(q) the Special Agreement Factor;  \n",
       "\n",
       "(r) the unit price; \n",
       "\n",
       "(s) the volumetric Primary Charges; \n",
       "\n",
       "(t) the non-volumetric Primary Charges; \n",
       "\n",
       "(u) the Meter Manufacturer; \n",
       "\n",
       "(v) the Manufacturer Meter Serial N"
      ],
      "text/plain": [
       "<IPython.core.display.HTML object>"
      ]
     },
     "metadata": {},
     "output_type": "display_data"
    },
    {
     "data": {
      "text/html": [
       "<h3>CSD 0601 V1.0 (clean).pdf (search score: 3.797216)</h3>"
      ],
      "text/plain": [
       "<IPython.core.display.HTML object>"
      ]
     },
     "metadata": {},
     "output_type": "display_data"
    },
    {
     "data": {
      "text/html": [
       "<h4>Key phrases: <br></h4><h5>Change Change \n",
       "Control \n",
       "Reference \n",
       "\n",
       "Sections | asynchronous recipient response \n",
       "\n",
       "transaction | 5.2 Wholesaler Initiated C1 Process | The Bilateral Data Catalogue | Code Subsidiary Document  \n",
       "\n",
       "No. | CSD 0601 Bilateral Data Catalogue | The Data Transaction specifications | A. Appendix A | Change History \n",
       " \n",
       "\n",
       "Version | Bilateral Interfaces Solution</h5>"
      ],
      "text/plain": [
       "<IPython.core.display.HTML object>"
      ]
     },
     "metadata": {},
     "output_type": "display_data"
    },
    {
     "data": {
      "text/html": [
       "Used in Data \n",
       "Transaction T218.R, T218.M, T321.R, T321.M \n",
       "\n",
       "  \n",
       "\n",
       "Data Item \n",
       "Number D2015 \n",
       "\n",
       "Data Item \n",
       "Name Occupancy Status \n",
       "\n",
       "Data Item Logical \n",
       "Type \n",
       "\n",
       "ASCIIString(12) \n",
       "\n",
       "\n",
       "\n",
       " \n",
       "\n",
       "CSD 0601 Bilateral Data Catalogue  \n",
       "Version 1.0 Page 16 of 128 \n",
       " \n",
       "\n",
       "Member of unique \n",
       "serial set \n",
       "\n",
       "no \n",
       "\n",
       "Member of \n",
       "Valid Set yes \n",
       "\n",
       "Data Group Core \n",
       "\n",
       "Data Owner Retailer, or Wholesaler (only when Vacancy Change Application \n",
       "has been confirmed) \n",
       "\n",
       "Description Declares premises for the SPID as Vacant or <span style=\"background-color:#f5e8a3\">Occupied</span> \n",
       "\n",
       "Further \n",
       "Details  \n",
       "\n",
       "Used in Data \n",
       "Transaction \n",
       "\n",
       "T321.M \n",
       "\n",
       "  \n",
       "\n",
       "Data Item \n",
       "Number D2018 \n",
       "\n",
       "Data Item \n",
       "Name Unmeasured Items Type A Count \n",
       "\n",
       "Data Item Logical \n",
       "Type \n",
       "\n",
       "non-negative integer(3) \n",
       "\n",
       "Member of unique \n",
       "serial set \n",
       "\n",
       "no \n",
       "\n",
       "Member of \n",
       "Valid Set no \n",
       "\n",
       "Data Group Service Component \n",
       "\n",
       "Data Owner Wholesaler \n",
       "\n",
       "Description Indicates how many of Unmeasured Items Type A are present at \n",
       "the SPID \n",
       "\n",
       "Further \n",
       "Details \n",
       "\n",
       " \n",
       "\n",
       "Used in Data \n",
       "Transaction \n",
       "\n",
       "T321.R, T321.W, T321.M, T322.W,"
      ],
      "text/plain": [
       "<IPython.core.display.HTML object>"
      ]
     },
     "metadata": {},
     "output_type": "display_data"
    },
    {
     "data": {
      "text/html": [
       "<h3>Annex E - Process Diagrams V1.0.pdf (search score: 2.933055)</h3>"
      ],
      "text/plain": [
       "<IPython.core.display.HTML object>"
      ]
     },
     "metadata": {},
     "output_type": "display_data"
    },
    {
     "data": {
      "text/html": [
       "<h4>Key phrases: <br></h4><h5>Operational Terms | Annex E | Process diagrams | part E | Unplanned events | Version | Page | incidents</h5>"
      ],
      "text/plain": [
       "<IPython.core.display.HTML object>"
      ]
     },
     "metadata": {},
     "output_type": "display_data"
    },
    {
     "data": {
      "text/html": [
       "our on-call contact arrangements Must be available 24 hrs Passes any information a day and provide 24 hr to NHH Customer contact details to the relating to the Retailer (e.g. standing on unplanned change call arrangements) and NHH Customer \n",
       "\n",
       "\n",
       "\n",
       " \n",
       "\n",
       " \n",
       "\n",
       " \n",
       "\n",
       "Version 1.0  Page 3 of 17 \n",
       "\n",
       " Process E1 - Identification of Sensitive Customers Step/Time Retailer Wholesaler Step 1 Publishes guidance as to which types of NHH Customer it considers to be Sensitive Customers and responds to any query which the Retailer raises with it about the application of a that guidance Step 2 (b) Within 2 BD of Updates information held becoming aware of by the MO on which Eligible Premises are <span style=\"background-color:#f5e8a3\">occupied</span> any change or by Sensitive Customers whilst making an (CSD 0104 or 0101) application for a b new connection Step 3 Receives notification from MO of change in Sensitive Customer flag, C Responds to any query which Queries change with the Wholesaler raises Yes the Retailer?"
      ],
      "text/plain": [
       "<IPython.core.display.HTML object>"
      ]
     },
     "metadata": {},
     "output_type": "display_data"
    },
    {
     "data": {
      "text/html": [
       "subsiding and when any temporary ban, order or permit has been k lifted \n",
       "\n",
       "\n",
       "\n",
       " \n",
       "\n",
       " \n",
       "\n",
       " \n",
       "\n",
       "Version 1.0  Page 15 of 17 \n",
       "\n",
       " Process E7- Emergencies (i.e. civil emergencies or national security events) [Steps 1 to 3] Step/Time Retailer Wholesaler Step 1 Shall provide the Wholesaler which such assistance or information as it may Keeps emergency plans reasonably require in order to develop or keep plans up-to- date Updates information held by the MO on which Eligible Premises are <span style=\"background-color:#f5e8a3\">occupied</span> by Sensitive Customers (CSD 0104 or 0101) C If develops an emergency Notified plan relating to the Retailer's NHH Customer, informs Retailer Step 2 Will coordinate as Shall cooperate with this appropriate the testing of its testing e emergency plans including the Retailer as appropriate Step 3 Wholesaler/Retailer receives information from NHH Customer Will follow the 24 hour contact arrangements described in Part E Step 4 h heading (C) \n",
       "\n",
       "\n",
       "\n",
       " \n",
       "\n",
       " \n",
       "\n",
       " \n",
       "\n",
       "Version 1.0  Page 1"
      ],
      "text/plain": [
       "<IPython.core.display.HTML object>"
      ]
     },
     "metadata": {},
     "output_type": "display_data"
    }
   ],
   "source": [
    "for result in search_results[\"value\"]:\n",
    "    display(HTML(\"<h3>\" + result[\"metadata_storage_name\"] + \" (search score: \" + str(result['@search.score']) + \")\" + \"</h3>\"))\n",
    "    display(HTML(\"<h4>\" + \"Key phrases: \" + \"<br>\" + \"</h4>\" + \"<h5>\" + ' | '.join(result[\"keyPhrases\"][:10]) + \"</h5>\"))\n",
    "    for highlight in result[\"@search.highlights\"][\"merged_text\"]:\n",
    "        display(HTML(highlight))"
   ]
  }
 ],
 "metadata": {
  "interpreter": {
   "hash": "61b301eb9a58c9ba423d271214dba6dff77dc5e1da0d614a2462c73180c143c5"
  },
  "kernelspec": {
   "display_name": "Python 3.8.3 64-bit ('base': conda)",
   "language": "python",
   "name": "python3"
  },
  "language_info": {
   "codemirror_mode": {
    "name": "ipython",
    "version": 3
   },
   "file_extension": ".py",
   "mimetype": "text/x-python",
   "name": "python",
   "nbconvert_exporter": "python",
   "pygments_lexer": "ipython3",
   "version": "3.10.0"
  },
  "orig_nbformat": 4
 },
 "nbformat": 4,
 "nbformat_minor": 2
}
